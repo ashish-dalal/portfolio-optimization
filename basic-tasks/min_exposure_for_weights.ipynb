{
 "cells": [
  {
   "cell_type": "code",
   "execution_count": 14,
   "id": "dba1bf39",
   "metadata": {},
   "outputs": [
    {
     "data": {
      "text/plain": [
       "0.9999999999999999"
      ]
     },
     "execution_count": 14,
     "metadata": {},
     "output_type": "execute_result"
    }
   ],
   "source": [
    "import numpy as np\n",
    "\n",
    "w = np.random.rand(3)\n",
    "w = w/np.sum(w)\n",
    "\n",
    "## \n",
    "minval = np.array([0.2,0.4,0])\n",
    "\n",
    "residue = 1 - np.sum(minval)\n",
    "w = residue*w\n",
    "\n",
    "w = w + minval\n",
    "np.sum(w)"
   ]
  },
  {
   "cell_type": "code",
   "execution_count": 25,
   "id": "8a0e9861",
   "metadata": {},
   "outputs": [],
   "source": [
    "pw = []\n",
    "for i in range(1000):\n",
    "    w = np.random.rand(3)\n",
    "    w = w/np.sum(w)\n",
    "\n",
    "    ## \n",
    "    minval = np.array([0.2,0.4,0])\n",
    "\n",
    "    residue = 1 - np.sum(minval)\n",
    "    w = residue*w\n",
    "\n",
    "    w = w + minval\n",
    "    pw.append(w)"
   ]
  },
  {
   "cell_type": "code",
   "execution_count": null,
   "id": "9c628f83",
   "metadata": {},
   "outputs": [],
   "source": []
  },
  {
   "cell_type": "code",
   "execution_count": 9,
   "id": "aa4207f2",
   "metadata": {},
   "outputs": [],
   "source": []
  },
  {
   "cell_type": "code",
   "execution_count": 12,
   "id": "b705dce7",
   "metadata": {},
   "outputs": [
    {
     "data": {
      "text/plain": [
       "1.0"
      ]
     },
     "execution_count": 12,
     "metadata": {},
     "output_type": "execute_result"
    }
   ],
   "source": []
  },
  {
   "cell_type": "code",
   "execution_count": null,
   "id": "83a57657",
   "metadata": {},
   "outputs": [],
   "source": []
  }
 ],
 "metadata": {
  "kernelspec": {
   "display_name": "Python 3 (ipykernel)",
   "language": "python",
   "name": "python3"
  },
  "language_info": {
   "codemirror_mode": {
    "name": "ipython",
    "version": 3
   },
   "file_extension": ".py",
   "mimetype": "text/x-python",
   "name": "python",
   "nbconvert_exporter": "python",
   "pygments_lexer": "ipython3",
   "version": "3.11.2"
  }
 },
 "nbformat": 4,
 "nbformat_minor": 5
}
