{
 "cells": [
  {
   "cell_type": "code",
   "execution_count": 2,
   "id": "f9d13877",
   "metadata": {},
   "outputs": [],
   "source": [
    "import numpy as np\n",
    "import pandas as pd\n",
    "import matplotlib.pyplot as plt\n",
    "import seaborn as sns\n",
    "import yfinance as yf\n",
    "import math\n",
    "from tqdm import tqdm\n",
    "from functions import *\n",
    "from tickers_list import *\n",
    "sns.set_style('whitegrid')"
   ]
  },
  {
   "cell_type": "code",
   "execution_count": 3,
   "id": "f042589c",
   "metadata": {},
   "outputs": [],
   "source": [
    "stocks = [\"LUPIN.NS\", \"VOLTAS.NS\", \"YESBANK.NS\"]\n",
    "\n",
    "INITIAL_AMT_INVESTED = 10000\n",
    "NUM_OF_SIMULATIONS = 5000\n",
    "start_date='2023-01-01'\n",
    "end_date='2023-12-31'"
   ]
  },
  {
   "cell_type": "code",
   "execution_count": 5,
   "id": "f4960635",
   "metadata": {},
   "outputs": [
    {
     "name": "stderr",
     "output_type": "stream",
     "text": [
      "100%|████████████████████████████████████████████████████████████████████████████████████| 3/3 [00:00<00:00,  5.16it/s]\n"
     ]
    }
   ],
   "source": [
    "## GATHER STOCK PRICES\n",
    "\n",
    "stock_prices, stock_dividend = fetch_data(stocks, start_date='2023-01-01', end_date='2023-12-31')\n",
    "\n",
    "## CALCULATE LOG RETURNS\n",
    "\n",
    "log_returns = np.log(stock_prices/stock_prices.shift(1))\n",
    "log_returns = log_returns[1:]"
   ]
  },
  {
   "cell_type": "code",
   "execution_count": null,
   "id": "27d3e554",
   "metadata": {},
   "outputs": [],
   "source": []
  },
  {
   "cell_type": "code",
   "execution_count": 6,
   "id": "c34fb670",
   "metadata": {},
   "outputs": [],
   "source": [
    "## DOWNSIDE DEVIATION (SORTINO RATIO)\n",
    "\n",
    "log_returns_down_only = log_returns.applymap(lambda x: 0 if x>0 else x)"
   ]
  },
  {
   "cell_type": "code",
   "execution_count": 185,
   "id": "2be12c8c",
   "metadata": {},
   "outputs": [
    {
     "name": "stderr",
     "output_type": "stream",
     "text": [
      "100%|████████████████████████████████████████████████████████████████████████████████████| 1/1 [00:01<00:00,  1.07s/it]\n",
      "100%|█████████████████████████████████████████████████████████████████████████████| 5000/5000 [00:11<00:00, 448.19it/s]\n"
     ]
    }
   ],
   "source": [
    "portfolio_weights = []\n",
    "portfolio_num_of_shares = []\n",
    "portfolio_returns = []\n",
    "portfolio_risks = []\n",
    "portfolio_risks_sortino = []\n",
    "portfolio_value = []\n",
    "portfolio_beta = []\n",
    "NUM_TRADING_DAYS = len(stock_prices)\n",
    "\n",
    "nifty50_price,temp = fetch_data(\"^NSEI\", start_date=start_date, end_date=end_date)\n",
    "log_returns_market = np.log(nifty50_price/nifty50_price.shift(1))[1:]\n",
    "\n",
    "## MONTE CARLO SIMULATION\n",
    "\n",
    "for i in tqdm(range(NUM_OF_SIMULATIONS)):\n",
    "    ## STEP-I: generating random weights\n",
    "    w = np.random.rand(log_returns.shape[1])\n",
    "    w = np.expand_dims(w, axis=0)\n",
    "    w = w/np.sum(w)\n",
    "    portfolio_weights.append(w.flatten())\n",
    "\n",
    "    ## STEP-II: calculating returns using average annual returns\n",
    "    p_returns = (log_returns.mean() @ w.T*NUM_TRADING_DAYS)[0]\n",
    "    portfolio_returns.append(p_returns)\n",
    "\n",
    "    ## STEP-III: calculating risks\n",
    "    p_risks = np.sqrt(w @ log_returns.cov()*NUM_TRADING_DAYS @ w.T)[0][0]\n",
    "    portfolio_risks.append(p_risks)\n",
    "    \n",
    "    p_risks = np.sqrt(w @ log_returns_down_only.cov()*NUM_TRADING_DAYS @ w.T)[0][0]\n",
    "    portfolio_risks_sortino.append(p_risks)\n",
    "\n",
    "    ## CALCULATING PORTFOLIO VALUE\n",
    "    num_of_shares = INITIAL_AMT_INVESTED*w[0]/stock_prices.iloc[0,:]\n",
    "    num_of_shares = np.expand_dims(num_of_shares, axis=0)\n",
    "    portfolio_num_of_shares.append(num_of_shares)\n",
    "\n",
    "    portfolio_value_i = np.sum(num_of_shares*stock_prices, axis=1)\n",
    "    portfolio_value.append(portfolio_value_i)\n",
    "\n",
    "    log_returns_portfolio_value_i = np.log(portfolio_value_i/portfolio_value_i.shift(1))[1:]\n",
    "\n",
    "    ## STEP-IV: calculating portfolio beta\n",
    "    beta = calculate_beta(log_returns_portfolio_value_i, log_returns_market)\n",
    "    portfolio_beta.append(beta)"
   ]
  },
  {
   "cell_type": "code",
   "execution_count": 186,
   "id": "68d1dab8",
   "metadata": {},
   "outputs": [],
   "source": [
    "portfolio_weights = np.array(portfolio_weights)\n",
    "portfolio_num_of_shares = np.array(portfolio_num_of_shares)\n",
    "portfolio_returns = np.array(portfolio_returns)\n",
    "portfolio_risks = np.array(portfolio_risks)\n",
    "portfolio_risks_sortino = np.array(portfolio_risks_sortino)\n",
    "portfolio_value = np.array(portfolio_value)\n",
    "portfolio_beta = np.array(portfolio_beta)\n",
    "\n",
    "\n",
    "\n",
    "# taking IR of government issued 10-year bonds as risk-free rate\n",
    "risk_free_rate = 0.07\n",
    "\n",
    "## CALCULATING RATIOS\n",
    "\n",
    "sharpe_ratios = (portfolio_returns - risk_free_rate) / portfolio_risks\n",
    "sortino_ratio = (portfolio_returns - risk_free_rate) / portfolio_risks_sortino"
   ]
  },
  {
   "cell_type": "code",
   "execution_count": 159,
   "id": "a081bd2a",
   "metadata": {},
   "outputs": [],
   "source": [
    "## OPTIMIZED WEIGHTS\n",
    "\n",
    "index = np.argmax(sortino_ratios)\n",
    "optimized_weights = portfolio_weights[index]\n",
    "\n",
    "num_of_shares = INITIAL_AMT_INVESTED*optimized_weights/stock_prices.iloc[0,:]\n",
    "num_of_shares = np.expand_dims(num_of_shares, axis=0)"
   ]
  },
  {
   "cell_type": "code",
   "execution_count": 106,
   "id": "a8b1754d",
   "metadata": {},
   "outputs": [],
   "source": [
    "## CALCULATING PORTFOLIO VALUE\n",
    "portfolio_value = np.sum(num_of_shares*np.array(stock_prices), axis=1)\n",
    "\n",
    "## PORTFOLIO DATAFRAME\n",
    "df_portfolio = num_of_shares*stock_prices\n",
    "df_portfolio['PORTFOLIO_VALUE'] = portfolio_value"
   ]
  },
  {
   "cell_type": "code",
   "execution_count": 91,
   "id": "44306ba2",
   "metadata": {},
   "outputs": [],
   "source": [
    "## FUNCTION TO CONVERT WEIGHTS TO DATAFRAME\n",
    "\n",
    "def weights_to_dataframe(arr, cols):\n",
    "    \n",
    "    if arr.ndim != 2:\n",
    "        raise ValueError(\"Input error must have only 2 dimensions\")\n",
    "    \n",
    "    for i in range(arr.shape[1]):\n",
    "        if i==0:\n",
    "            df = pd.DataFrame(arr[:,i])\n",
    "        else:\n",
    "            temp = pd.DataFrame(arr[:,i])\n",
    "            df = pd.concat([df,temp], axis=1)\n",
    "    df.columns = cols\n",
    "    return df"
   ]
  },
  {
   "cell_type": "code",
   "execution_count": 93,
   "id": "71679c03",
   "metadata": {},
   "outputs": [],
   "source": [
    "## CREATING DATAFRAME FOR SIMULATED WEIGHTS\n",
    "\n",
    "df_sims = pd.DataFrame({'Portfolio_return':portfolio_returns,'Portfolio_risk':portfolio_risks,'Sortino':sortino_ratios})\n",
    "df_sims = pd.concat([df_sims,weights_to_dataframe(portfolio_weights, stocks)], axis=1)\n",
    "df_sims = df_sims.sort_values(by=['Sortino'], ascending=False)"
   ]
  },
  {
   "cell_type": "code",
   "execution_count": 155,
   "id": "0d4ebe7f",
   "metadata": {},
   "outputs": [],
   "source": [
    "def calculate_beta(log_return_portfolio, log_return_market):\n",
    "    \n",
    "    covariance = np.cov(log_return_portfolio, log_return_market.iloc[:,0])[0,1]\n",
    "    variance_market = log_return_market.var()\n",
    "    \n",
    "    beta = covariance/variance_market\n",
    "    \n",
    "    return beta[0]"
   ]
  },
  {
   "cell_type": "code",
   "execution_count": 156,
   "id": "3c8b3308",
   "metadata": {},
   "outputs": [
    {
     "name": "stderr",
     "output_type": "stream",
     "text": [
      "100%|████████████████████████████████████████████████████████████████████████████████████| 1/1 [00:00<00:00,  3.19it/s]\n"
     ]
    }
   ],
   "source": [
    "nifty50_price,temp = fetch_data(\"^NSEI\", start_date=start_date, end_date=end_date)\n",
    "log_returns_market = np.log(nifty50_price/nifty50_price.shift(1))[1:]\n",
    "\n",
    "log_returns_portfolio = np.log(df_portfolio['PORTFOLIO_VALUE']/df_portfolio['PORTFOLIO_VALUE'].shift(1))[1:]\n",
    "\n",
    "beta = calculate_beta(log_returns_portfolio, log_returns_market)"
   ]
  },
  {
   "cell_type": "code",
   "execution_count": null,
   "id": "7603827b",
   "metadata": {},
   "outputs": [],
   "source": []
  },
  {
   "cell_type": "code",
   "execution_count": null,
   "id": "bf7a4603",
   "metadata": {},
   "outputs": [],
   "source": []
  },
  {
   "cell_type": "code",
   "execution_count": 180,
   "id": "5304d294",
   "metadata": {},
   "outputs": [
    {
     "data": {
      "text/plain": [
       "LUPIN.NS       6.758875\n",
       "VOLTAS.NS      4.279608\n",
       "YESBANK.NS    76.265819\n",
       "Name: 2023-01-02 00:00:00+05:30, dtype: float64"
      ]
     },
     "execution_count": 180,
     "metadata": {},
     "output_type": "execute_result"
    }
   ],
   "source": [
    "w[0]*INITIAL_AMT_INVESTED/stock_prices.iloc[0,:]"
   ]
  },
  {
   "cell_type": "code",
   "execution_count": 182,
   "id": "82e671b5",
   "metadata": {},
   "outputs": [
    {
     "name": "stderr",
     "output_type": "stream",
     "text": [
      "100%|████████████████████████████████████████████████████████████████████████████████████| 1/1 [00:00<00:00,  2.77it/s]\n"
     ]
    }
   ],
   "source": [
    "portfolio_weights = []\n",
    "portfolio_num_of_shares = []\n",
    "portfolio_returns = []\n",
    "portfolio_risks = []\n",
    "portfolio_value = []\n",
    "portfolio_beta = []\n",
    "NUM_TRADING_DAYS = len(stock_prices)\n",
    "\n",
    "nifty50_price,temp = fetch_data(\"^NSEI\", start_date=start_date, end_date=end_date)\n",
    "log_returns_market = np.log(nifty50_price/nifty50_price.shift(1))[1:]\n",
    "\n",
    "## MONTE CARLO SIMULATION\n",
    "\n",
    "\n",
    "## STEP-I: generating random weights\n",
    "w = np.random.rand(log_returns.shape[1])\n",
    "w = np.expand_dims(w, axis=0)\n",
    "w = w/np.sum(w)\n",
    "portfolio_weights.append(w.flatten())\n",
    "    \n",
    "## STEP-II: calculating returns using average annual returns\n",
    "p_returns = (log_returns.mean() @ w.T*NUM_TRADING_DAYS)[0]\n",
    "portfolio_returns.append(p_returns)\n",
    "    \n",
    "## STEP-III: calculating risks\n",
    "p_risks = np.sqrt(w @ log_returns_down_only.cov()*NUM_TRADING_DAYS @ w.T)[0][0]\n",
    "portfolio_risks.append(p_risks)\n",
    "    \n",
    "## CALCULATING PORTFOLIO VALUE\n",
    "num_of_shares = INITIAL_AMT_INVESTED*w[0]/stock_prices.iloc[0,:]\n",
    "num_of_shares = np.expand_dims(num_of_shares, axis=0)\n",
    "portfolio_num_of_shares.append(num_of_shares)\n",
    "\n",
    "portfolio_value_i = np.sum(num_of_shares*stock_prices, axis=1)\n",
    "portfolio_value.append(portfolio_value_i)\n",
    "\n",
    "log_returns_portfolio_value_i = np.log(portfolio_value_i/portfolio_value_i.shift(1))[1:]\n",
    "\n",
    "## STEP-IV: calculating portfolio beta\n",
    "beta = calculate_beta(log_returns_portfolio_value_i, log_returns_market)\n",
    "portfolio_beta.append(beta)"
   ]
  },
  {
   "cell_type": "code",
   "execution_count": null,
   "id": "d3b3298b",
   "metadata": {},
   "outputs": [],
   "source": []
  },
  {
   "cell_type": "code",
   "execution_count": null,
   "id": "6d95d5d6",
   "metadata": {},
   "outputs": [],
   "source": []
  },
  {
   "cell_type": "code",
   "execution_count": null,
   "id": "de95e207",
   "metadata": {},
   "outputs": [],
   "source": []
  },
  {
   "cell_type": "code",
   "execution_count": null,
   "id": "499608ee",
   "metadata": {},
   "outputs": [],
   "source": []
  }
 ],
 "metadata": {
  "kernelspec": {
   "display_name": "Python 3 (ipykernel)",
   "language": "python",
   "name": "python3"
  },
  "language_info": {
   "codemirror_mode": {
    "name": "ipython",
    "version": 3
   },
   "file_extension": ".py",
   "mimetype": "text/x-python",
   "name": "python",
   "nbconvert_exporter": "python",
   "pygments_lexer": "ipython3",
   "version": "3.11.2"
  }
 },
 "nbformat": 4,
 "nbformat_minor": 5
}
