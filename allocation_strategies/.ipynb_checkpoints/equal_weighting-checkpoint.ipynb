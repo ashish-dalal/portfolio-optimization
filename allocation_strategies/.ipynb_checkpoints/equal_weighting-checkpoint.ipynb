{
 "cells": [
  {
   "cell_type": "code",
   "execution_count": 41,
   "id": "185c33ca",
   "metadata": {},
   "outputs": [],
   "source": [
    "import numpy as np\n",
    "import pandas as pd\n",
    "import matplotlib.pyplot as plt\n",
    "import seaborn as sns\n",
    "import yfinance as yf\n",
    "import math\n",
    "import plotly.graph_objects as go\n",
    "import plotly.express as px\n",
    "from functions import *\n",
    "from tickers_list import *\n",
    "from tqdm import tqdm\n",
    "sns.set_style('whitegrid')"
   ]
  },
  {
   "cell_type": "code",
   "execution_count": 42,
   "id": "dcf22325",
   "metadata": {},
   "outputs": [],
   "source": [
    "## HARDCODE VALUES\n",
    "\n",
    "stocks = nifty50_tickers[:10]\n",
    "\n",
    "INITIAL_AMT_INVESTED = 10000\n",
    "NUM_OF_SIMULATIONS = 1000\n",
    "start_date='2020-01-01'\n",
    "end_date='2023-12-31'"
   ]
  },
  {
   "cell_type": "code",
   "execution_count": 43,
   "id": "5daed542",
   "metadata": {},
   "outputs": [
    {
     "name": "stdout",
     "output_type": "stream",
     "text": [
      "[*********************100%***********************]  10 of 10 completed\n"
     ]
    }
   ],
   "source": [
    "## GATHER STOCK PRICES\n",
    "\n",
    "stock_prices, stock_dividend = fetch_data(stocks, start_date=start_date, end_date=end_date)\n",
    "\n",
    "## CALCULATE LOG RETURNS\n",
    "\n",
    "log_returns = np.log(stock_prices/stock_prices.shift(1))[1:] # shape: (991,10)\n",
    "\n",
    "## DOWNSIDE DEVIATION (SORTINO RATIO)\n",
    "\n",
    "log_returns_down_only = log_returns.applymap(lambda x: 0 if x>0 else x)"
   ]
  },
  {
   "cell_type": "code",
   "execution_count": 35,
   "id": "95ad7632",
   "metadata": {
    "scrolled": true
   },
   "outputs": [
    {
     "ename": "IndexingError",
     "evalue": "Too many indexers",
     "output_type": "error",
     "traceback": [
      "\u001b[1;31m---------------------------------------------------------------------------\u001b[0m",
      "\u001b[1;31mIndexingError\u001b[0m                             Traceback (most recent call last)",
      "Cell \u001b[1;32mIn[35], line 26\u001b[0m\n\u001b[0;32m     23\u001b[0m log_returns_portfolio_value \u001b[38;5;241m=\u001b[39m np\u001b[38;5;241m.\u001b[39mlog(portfolio_value\u001b[38;5;241m/\u001b[39mportfolio_value\u001b[38;5;241m.\u001b[39mshift(\u001b[38;5;241m1\u001b[39m))[\u001b[38;5;241m1\u001b[39m:]\n\u001b[0;32m     24\u001b[0m log_returns_portfolio_value\u001b[38;5;241m.\u001b[39mindex \u001b[38;5;241m=\u001b[39m log_returns_portfolio_value\u001b[38;5;241m.\u001b[39mindex\u001b[38;5;241m.\u001b[39mtz_localize(\u001b[38;5;124m'\u001b[39m\u001b[38;5;124mUTC\u001b[39m\u001b[38;5;124m'\u001b[39m)\u001b[38;5;241m.\u001b[39mtz_convert(\u001b[38;5;124m'\u001b[39m\u001b[38;5;124mAsia/Kolkata\u001b[39m\u001b[38;5;124m'\u001b[39m)\n\u001b[1;32m---> 26\u001b[0m beta \u001b[38;5;241m=\u001b[39m \u001b[43mcalculate_beta\u001b[49m\u001b[43m(\u001b[49m\u001b[43mlog_returns_portfolio_value\u001b[49m\u001b[43m,\u001b[49m\u001b[43m \u001b[49m\u001b[43mlog_returns_market\u001b[49m\u001b[43m)\u001b[49m\n",
      "File \u001b[1;32m~\\data-science-files\\ds-projects\\portfolio_modified\\allocation_strategies\\functions.py:64\u001b[0m, in \u001b[0;36mcalculate_beta\u001b[1;34m(log_return_portfolio, log_return_market)\u001b[0m\n\u001b[0;32m     62\u001b[0m \u001b[38;5;28;01mdef\u001b[39;00m \u001b[38;5;21mcalculate_beta\u001b[39m(log_return_portfolio, log_return_market):\n\u001b[1;32m---> 64\u001b[0m     covariance \u001b[38;5;241m=\u001b[39m np\u001b[38;5;241m.\u001b[39mcov(log_return_portfolio, \u001b[43mlog_return_market\u001b[49m\u001b[38;5;241;43m.\u001b[39;49m\u001b[43miloc\u001b[49m\u001b[43m[\u001b[49m\u001b[43m:\u001b[49m\u001b[43m,\u001b[49m\u001b[38;5;241;43m0\u001b[39;49m\u001b[43m]\u001b[49m)[\u001b[38;5;241m0\u001b[39m,\u001b[38;5;241m1\u001b[39m]\n\u001b[0;32m     65\u001b[0m     variance_market \u001b[38;5;241m=\u001b[39m log_return_market\u001b[38;5;241m.\u001b[39mvar()\n\u001b[0;32m     67\u001b[0m     beta \u001b[38;5;241m=\u001b[39m covariance\u001b[38;5;241m/\u001b[39mvariance_market\n",
      "File \u001b[1;32m~\\AppData\\Local\\Programs\\Python\\Python311\\Lib\\site-packages\\pandas\\core\\indexing.py:1067\u001b[0m, in \u001b[0;36m_LocationIndexer.__getitem__\u001b[1;34m(self, key)\u001b[0m\n\u001b[0;32m   1065\u001b[0m     \u001b[38;5;28;01mif\u001b[39;00m \u001b[38;5;28mself\u001b[39m\u001b[38;5;241m.\u001b[39m_is_scalar_access(key):\n\u001b[0;32m   1066\u001b[0m         \u001b[38;5;28;01mreturn\u001b[39;00m \u001b[38;5;28mself\u001b[39m\u001b[38;5;241m.\u001b[39mobj\u001b[38;5;241m.\u001b[39m_get_value(\u001b[38;5;241m*\u001b[39mkey, takeable\u001b[38;5;241m=\u001b[39m\u001b[38;5;28mself\u001b[39m\u001b[38;5;241m.\u001b[39m_takeable)\n\u001b[1;32m-> 1067\u001b[0m     \u001b[38;5;28;01mreturn\u001b[39;00m \u001b[38;5;28;43mself\u001b[39;49m\u001b[38;5;241;43m.\u001b[39;49m\u001b[43m_getitem_tuple\u001b[49m\u001b[43m(\u001b[49m\u001b[43mkey\u001b[49m\u001b[43m)\u001b[49m\n\u001b[0;32m   1068\u001b[0m \u001b[38;5;28;01melse\u001b[39;00m:\n\u001b[0;32m   1069\u001b[0m     \u001b[38;5;66;03m# we by definition only have the 0th axis\u001b[39;00m\n\u001b[0;32m   1070\u001b[0m     axis \u001b[38;5;241m=\u001b[39m \u001b[38;5;28mself\u001b[39m\u001b[38;5;241m.\u001b[39maxis \u001b[38;5;129;01mor\u001b[39;00m \u001b[38;5;241m0\u001b[39m\n",
      "File \u001b[1;32m~\\AppData\\Local\\Programs\\Python\\Python311\\Lib\\site-packages\\pandas\\core\\indexing.py:1563\u001b[0m, in \u001b[0;36m_iLocIndexer._getitem_tuple\u001b[1;34m(self, tup)\u001b[0m\n\u001b[0;32m   1561\u001b[0m \u001b[38;5;28;01mdef\u001b[39;00m \u001b[38;5;21m_getitem_tuple\u001b[39m(\u001b[38;5;28mself\u001b[39m, tup: \u001b[38;5;28mtuple\u001b[39m):\n\u001b[1;32m-> 1563\u001b[0m     tup \u001b[38;5;241m=\u001b[39m \u001b[38;5;28;43mself\u001b[39;49m\u001b[38;5;241;43m.\u001b[39;49m\u001b[43m_validate_tuple_indexer\u001b[49m\u001b[43m(\u001b[49m\u001b[43mtup\u001b[49m\u001b[43m)\u001b[49m\n\u001b[0;32m   1564\u001b[0m     \u001b[38;5;28;01mwith\u001b[39;00m suppress(IndexingError):\n\u001b[0;32m   1565\u001b[0m         \u001b[38;5;28;01mreturn\u001b[39;00m \u001b[38;5;28mself\u001b[39m\u001b[38;5;241m.\u001b[39m_getitem_lowerdim(tup)\n",
      "File \u001b[1;32m~\\AppData\\Local\\Programs\\Python\\Python311\\Lib\\site-packages\\pandas\\core\\indexing.py:869\u001b[0m, in \u001b[0;36m_LocationIndexer._validate_tuple_indexer\u001b[1;34m(self, key)\u001b[0m\n\u001b[0;32m    864\u001b[0m \u001b[38;5;129m@final\u001b[39m\n\u001b[0;32m    865\u001b[0m \u001b[38;5;28;01mdef\u001b[39;00m \u001b[38;5;21m_validate_tuple_indexer\u001b[39m(\u001b[38;5;28mself\u001b[39m, key: \u001b[38;5;28mtuple\u001b[39m) \u001b[38;5;241m-\u001b[39m\u001b[38;5;241m>\u001b[39m \u001b[38;5;28mtuple\u001b[39m:\n\u001b[0;32m    866\u001b[0m \u001b[38;5;250m    \u001b[39m\u001b[38;5;124;03m\"\"\"\u001b[39;00m\n\u001b[0;32m    867\u001b[0m \u001b[38;5;124;03m    Check the key for valid keys across my indexer.\u001b[39;00m\n\u001b[0;32m    868\u001b[0m \u001b[38;5;124;03m    \"\"\"\u001b[39;00m\n\u001b[1;32m--> 869\u001b[0m     key \u001b[38;5;241m=\u001b[39m \u001b[38;5;28;43mself\u001b[39;49m\u001b[38;5;241;43m.\u001b[39;49m\u001b[43m_validate_key_length\u001b[49m\u001b[43m(\u001b[49m\u001b[43mkey\u001b[49m\u001b[43m)\u001b[49m\n\u001b[0;32m    870\u001b[0m     key \u001b[38;5;241m=\u001b[39m \u001b[38;5;28mself\u001b[39m\u001b[38;5;241m.\u001b[39m_expand_ellipsis(key)\n\u001b[0;32m    871\u001b[0m     \u001b[38;5;28;01mfor\u001b[39;00m i, k \u001b[38;5;129;01min\u001b[39;00m \u001b[38;5;28menumerate\u001b[39m(key):\n",
      "File \u001b[1;32m~\\AppData\\Local\\Programs\\Python\\Python311\\Lib\\site-packages\\pandas\\core\\indexing.py:908\u001b[0m, in \u001b[0;36m_LocationIndexer._validate_key_length\u001b[1;34m(self, key)\u001b[0m\n\u001b[0;32m    906\u001b[0m             \u001b[38;5;28;01mraise\u001b[39;00m IndexingError(_one_ellipsis_message)\n\u001b[0;32m    907\u001b[0m         \u001b[38;5;28;01mreturn\u001b[39;00m \u001b[38;5;28mself\u001b[39m\u001b[38;5;241m.\u001b[39m_validate_key_length(key)\n\u001b[1;32m--> 908\u001b[0m     \u001b[38;5;28;01mraise\u001b[39;00m IndexingError(\u001b[38;5;124m\"\u001b[39m\u001b[38;5;124mToo many indexers\u001b[39m\u001b[38;5;124m\"\u001b[39m)\n\u001b[0;32m    909\u001b[0m \u001b[38;5;28;01mreturn\u001b[39;00m key\n",
      "\u001b[1;31mIndexingError\u001b[0m: Too many indexers"
     ]
    }
   ],
   "source": [
    "## Equal Weighting\n",
    "w = np.ones(stock_prices.shape[1])/stock_prices.shape[1] # shape: (10,)\n",
    "w = np.expand_dims(w, axis=0) # shape: (1,10)\n",
    "\n",
    "NUM_TRADING_DAYS = len(stock_prices)\n",
    "\n",
    "nifty50 = yf.Ticker(\"^NSEI\")\n",
    "nifty50_price = nifty50.history(start=start_date, end=end_date)['Close']\n",
    "\n",
    "log_returns_market = np.log(nifty50_price/nifty50_price.shift(1))[1:]\n",
    "\n",
    "## CALCULATING RETURNS\n",
    "portfolio_returns = NUM_TRADING_DAYS*w @ log_returns.mean()\n",
    "\n",
    "portfolio_risk = np.sqrt(w @ log_returns.cov() @ w.T)\n",
    "portfolio_risk_sortino = np.sqrt(w @ log_returns_down_only.cov() @ w.T)\n",
    "\n",
    "num_of_shares = INITIAL_AMT_INVESTED*w[0]/stock_prices.iloc[0,:]\n",
    "num_of_shares = np.expand_dims(num_of_shares, axis=0)\n",
    "\n",
    "portfolio_value = np.sum(num_of_shares*stock_prices, axis=1)\n",
    "\n",
    "log_returns_portfolio_value = np.log(portfolio_value/portfolio_value.shift(1))[1:]\n",
    "log_returns_portfolio_value.index = log_returns_portfolio_value.index.tz_localize('UTC').tz_convert('Asia/Kolkata')\n",
    "\n",
    "beta = calculate_beta(log_returns_portfolio_value, log_returns_market)"
   ]
  },
  {
   "cell_type": "code",
   "execution_count": null,
   "id": "454a4341",
   "metadata": {},
   "outputs": [],
   "source": [
    "log_returns_portfolio_value.shape"
   ]
  },
  {
   "cell_type": "code",
   "execution_count": null,
   "id": "9a610a0e",
   "metadata": {},
   "outputs": [],
   "source": [
    "def calculate_beta(log_return_portfolio, log_return_market):\n",
    "    \n",
    "    intersection_index = np.intersect1d(log_return_portfolio.index, log_return_market.index)\n",
    "    \n",
    "    log_return_market = log_return_market.loc[intersection_index]\n",
    "    log_return_portfolio = log_return_portfolio[intersection_index]\n",
    "    \n",
    "    covariance = np.cov(log_return_portfolio, log_return_market)[0,1]\n",
    "    variance_market = log_return_market.var()\n",
    "    \n",
    "    beta = covariance/variance_market\n",
    "    \n",
    "    if type(beta) == np.float64:\n",
    "        return beta\n",
    "    else:\n",
    "        return beta[0]"
   ]
  },
  {
   "cell_type": "code",
   "execution_count": 20,
   "id": "465822d2",
   "metadata": {},
   "outputs": [
    {
     "data": {
      "text/plain": [
       "array([], dtype=object)"
      ]
     },
     "execution_count": 20,
     "metadata": {},
     "output_type": "execute_result"
    }
   ],
   "source": [
    "np.intersect1d(log_returns_market.index, log_returns_portfolio_value.index)"
   ]
  },
  {
   "cell_type": "code",
   "execution_count": 26,
   "id": "8fb5e648",
   "metadata": {},
   "outputs": [
    {
     "data": {
      "text/plain": [
       "DatetimeIndex(['2020-01-02 05:30:00+05:30', '2020-01-03 05:30:00+05:30',\n",
       "               '2020-01-06 05:30:00+05:30', '2020-01-07 05:30:00+05:30',\n",
       "               '2020-01-08 05:30:00+05:30', '2020-01-09 05:30:00+05:30',\n",
       "               '2020-01-10 05:30:00+05:30', '2020-01-13 05:30:00+05:30',\n",
       "               '2020-01-14 05:30:00+05:30', '2020-01-15 05:30:00+05:30',\n",
       "               ...\n",
       "               '2023-12-15 05:30:00+05:30', '2023-12-18 05:30:00+05:30',\n",
       "               '2023-12-19 05:30:00+05:30', '2023-12-20 05:30:00+05:30',\n",
       "               '2023-12-21 05:30:00+05:30', '2023-12-22 05:30:00+05:30',\n",
       "               '2023-12-26 05:30:00+05:30', '2023-12-27 05:30:00+05:30',\n",
       "               '2023-12-28 05:30:00+05:30', '2023-12-29 05:30:00+05:30'],\n",
       "              dtype='datetime64[ns, Asia/Kolkata]', name='Date', length=991, freq=None)"
      ]
     },
     "execution_count": 26,
     "metadata": {},
     "output_type": "execute_result"
    }
   ],
   "source": [
    "log_returns_portfolio_value.index"
   ]
  },
  {
   "cell_type": "code",
   "execution_count": 27,
   "id": "52aeece9",
   "metadata": {},
   "outputs": [
    {
     "data": {
      "text/plain": [
       "DatetimeIndex(['2020-01-02 00:00:00+05:30', '2020-01-03 00:00:00+05:30',\n",
       "               '2020-01-06 00:00:00+05:30', '2020-01-07 00:00:00+05:30',\n",
       "               '2020-01-08 00:00:00+05:30', '2020-01-09 00:00:00+05:30',\n",
       "               '2020-01-10 00:00:00+05:30', '2020-01-13 00:00:00+05:30',\n",
       "               '2020-01-14 00:00:00+05:30', '2020-01-15 00:00:00+05:30',\n",
       "               ...\n",
       "               '2023-12-15 00:00:00+05:30', '2023-12-18 00:00:00+05:30',\n",
       "               '2023-12-19 00:00:00+05:30', '2023-12-20 00:00:00+05:30',\n",
       "               '2023-12-21 00:00:00+05:30', '2023-12-22 00:00:00+05:30',\n",
       "               '2023-12-26 00:00:00+05:30', '2023-12-27 00:00:00+05:30',\n",
       "               '2023-12-28 00:00:00+05:30', '2023-12-29 00:00:00+05:30'],\n",
       "              dtype='datetime64[ns, Asia/Kolkata]', name='Date', length=990, freq=None)"
      ]
     },
     "execution_count": 27,
     "metadata": {},
     "output_type": "execute_result"
    }
   ],
   "source": [
    "log_returns_market.index"
   ]
  },
  {
   "cell_type": "code",
   "execution_count": null,
   "id": "8401c375",
   "metadata": {},
   "outputs": [],
   "source": []
  },
  {
   "cell_type": "code",
   "execution_count": null,
   "id": "f7adf28d",
   "metadata": {},
   "outputs": [],
   "source": []
  }
 ],
 "metadata": {
  "kernelspec": {
   "display_name": "Python 3 (ipykernel)",
   "language": "python",
   "name": "python3"
  },
  "language_info": {
   "codemirror_mode": {
    "name": "ipython",
    "version": 3
   },
   "file_extension": ".py",
   "mimetype": "text/x-python",
   "name": "python",
   "nbconvert_exporter": "python",
   "pygments_lexer": "ipython3",
   "version": "3.11.2"
  }
 },
 "nbformat": 4,
 "nbformat_minor": 5
}
