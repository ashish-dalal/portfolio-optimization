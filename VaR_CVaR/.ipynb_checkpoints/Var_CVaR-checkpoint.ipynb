{
 "cells": [
  {
   "cell_type": "code",
   "execution_count": 6,
   "id": "55162a16",
   "metadata": {},
   "outputs": [],
   "source": [
    "import numpy as np\n",
    "import pandas as pd\n",
    "import matplotlib.pyplot as plt\n",
    "import seaborn as sns\n",
    "import yfinance as yf\n",
    "import math\n",
    "import plotly.graph_objects as go\n",
    "import plotly.express as px\n",
    "from tqdm import tqdm\n",
    "from functions import *\n",
    "from tickers_list import *\n",
    "sns.set_style('whitegrid')"
   ]
  },
  {
   "cell_type": "code",
   "execution_count": 7,
   "id": "f6a24be1",
   "metadata": {},
   "outputs": [],
   "source": [
    "## HARDCODE VALUES\n",
    "\n",
    "stocks = [\"LUPIN.NS\", \"VOLTAS.NS\", \"YESBANK.NS\"]\n",
    "\n",
    "INITIAL_AMT_INVESTED = 10000\n",
    "NUM_OF_SIMULATIONS = 1000\n",
    "start_date='2023-01-01'\n",
    "end_date='2023-12-31'"
   ]
  },
  {
   "cell_type": "code",
   "execution_count": 65,
   "id": "529c95db",
   "metadata": {},
   "outputs": [
    {
     "name": "stdout",
     "output_type": "stream",
     "text": [
      "[*********************100%***********************]  3 of 3 completed\n"
     ]
    }
   ],
   "source": [
    "tickers = yf.Tickers(stocks)\n",
    "hist_data = tickers.history(period='1y', progress=True)"
   ]
  },
  {
   "cell_type": "code",
   "execution_count": 66,
   "id": "c0e8a64a",
   "metadata": {},
   "outputs": [
    {
     "data": {
      "text/html": [
       "<div>\n",
       "<style scoped>\n",
       "    .dataframe tbody tr th:only-of-type {\n",
       "        vertical-align: middle;\n",
       "    }\n",
       "\n",
       "    .dataframe tbody tr th {\n",
       "        vertical-align: top;\n",
       "    }\n",
       "\n",
       "    .dataframe thead th {\n",
       "        text-align: right;\n",
       "    }\n",
       "</style>\n",
       "<table border=\"1\" class=\"dataframe\">\n",
       "  <thead>\n",
       "    <tr style=\"text-align: right;\">\n",
       "      <th></th>\n",
       "      <th>LUPIN.NS</th>\n",
       "      <th>VOLTAS.NS</th>\n",
       "      <th>YESBANK.NS</th>\n",
       "    </tr>\n",
       "    <tr>\n",
       "      <th>Date</th>\n",
       "      <th></th>\n",
       "      <th></th>\n",
       "      <th></th>\n",
       "    </tr>\n",
       "  </thead>\n",
       "  <tbody>\n",
       "    <tr>\n",
       "      <th>2023-05-22</th>\n",
       "      <td>0.0</td>\n",
       "      <td>0.0</td>\n",
       "      <td>0.0</td>\n",
       "    </tr>\n",
       "    <tr>\n",
       "      <th>2023-05-23</th>\n",
       "      <td>0.0</td>\n",
       "      <td>0.0</td>\n",
       "      <td>0.0</td>\n",
       "    </tr>\n",
       "    <tr>\n",
       "      <th>2023-05-24</th>\n",
       "      <td>0.0</td>\n",
       "      <td>0.0</td>\n",
       "      <td>0.0</td>\n",
       "    </tr>\n",
       "    <tr>\n",
       "      <th>2023-05-25</th>\n",
       "      <td>0.0</td>\n",
       "      <td>0.0</td>\n",
       "      <td>0.0</td>\n",
       "    </tr>\n",
       "    <tr>\n",
       "      <th>2023-05-26</th>\n",
       "      <td>0.0</td>\n",
       "      <td>0.0</td>\n",
       "      <td>0.0</td>\n",
       "    </tr>\n",
       "    <tr>\n",
       "      <th>...</th>\n",
       "      <td>...</td>\n",
       "      <td>...</td>\n",
       "      <td>...</td>\n",
       "    </tr>\n",
       "    <tr>\n",
       "      <th>2024-05-14</th>\n",
       "      <td>0.0</td>\n",
       "      <td>0.0</td>\n",
       "      <td>0.0</td>\n",
       "    </tr>\n",
       "    <tr>\n",
       "      <th>2024-05-15</th>\n",
       "      <td>0.0</td>\n",
       "      <td>0.0</td>\n",
       "      <td>0.0</td>\n",
       "    </tr>\n",
       "    <tr>\n",
       "      <th>2024-05-16</th>\n",
       "      <td>0.0</td>\n",
       "      <td>0.0</td>\n",
       "      <td>0.0</td>\n",
       "    </tr>\n",
       "    <tr>\n",
       "      <th>2024-05-17</th>\n",
       "      <td>0.0</td>\n",
       "      <td>0.0</td>\n",
       "      <td>0.0</td>\n",
       "    </tr>\n",
       "    <tr>\n",
       "      <th>2024-05-21</th>\n",
       "      <td>0.0</td>\n",
       "      <td>0.0</td>\n",
       "      <td>0.0</td>\n",
       "    </tr>\n",
       "  </tbody>\n",
       "</table>\n",
       "<p>245 rows × 3 columns</p>\n",
       "</div>"
      ],
      "text/plain": [
       "            LUPIN.NS  VOLTAS.NS  YESBANK.NS\n",
       "Date                                       \n",
       "2023-05-22       0.0        0.0         0.0\n",
       "2023-05-23       0.0        0.0         0.0\n",
       "2023-05-24       0.0        0.0         0.0\n",
       "2023-05-25       0.0        0.0         0.0\n",
       "2023-05-26       0.0        0.0         0.0\n",
       "...              ...        ...         ...\n",
       "2024-05-14       0.0        0.0         0.0\n",
       "2024-05-15       0.0        0.0         0.0\n",
       "2024-05-16       0.0        0.0         0.0\n",
       "2024-05-17       0.0        0.0         0.0\n",
       "2024-05-21       0.0        0.0         0.0\n",
       "\n",
       "[245 rows x 3 columns]"
      ]
     },
     "execution_count": 66,
     "metadata": {},
     "output_type": "execute_result"
    }
   ],
   "source": [
    "hist_data.Dividends"
   ]
  },
  {
   "cell_type": "code",
   "execution_count": 74,
   "id": "782a818d",
   "metadata": {},
   "outputs": [],
   "source": [
    "def fetch_data(stock_list, start_date, end_date, period=None, dividend=True):\n",
    "    \n",
    "    \"\"\"Returns stock_price_df, stock_dividend_df\"\"\"\n",
    "    \n",
    "    tickers = yf.Tickers(stock_list)\n",
    "    \n",
    "    if start_date is not None:\n",
    "        historical_data = tickers.history(start=start_date, end=end_date)\n",
    "    if period is not None:\n",
    "        historical_data = tickers.history(period=period)\n",
    "    \n",
    "    if dividend:    \n",
    "        return historical_data.Close, historical_data.Dividends\n",
    "    else:\n",
    "        return historical_data.Close"
   ]
  },
  {
   "cell_type": "code",
   "execution_count": 75,
   "id": "f181a8f6",
   "metadata": {},
   "outputs": [
    {
     "name": "stdout",
     "output_type": "stream",
     "text": [
      "[*********************100%***********************]  3 of 3 completed\n"
     ]
    }
   ],
   "source": [
    "## GATHER STOCK PRICES\n",
    "\n",
    "stock_prices, stock_dividend = fetch_data(stocks, start_date='2023-01-01', end_date='2023-12-31')\n",
    "\n",
    "## CALCULATE LOG RETURNS\n",
    "\n",
    "log_returns = np.log(stock_prices/stock_prices.shift(1))[1:]"
   ]
  },
  {
   "cell_type": "code",
   "execution_count": 78,
   "id": "e9a0f0f5",
   "metadata": {},
   "outputs": [
    {
     "data": {
      "text/html": [
       "<div>\n",
       "<style scoped>\n",
       "    .dataframe tbody tr th:only-of-type {\n",
       "        vertical-align: middle;\n",
       "    }\n",
       "\n",
       "    .dataframe tbody tr th {\n",
       "        vertical-align: top;\n",
       "    }\n",
       "\n",
       "    .dataframe thead th {\n",
       "        text-align: right;\n",
       "    }\n",
       "</style>\n",
       "<table border=\"1\" class=\"dataframe\">\n",
       "  <thead>\n",
       "    <tr style=\"text-align: right;\">\n",
       "      <th></th>\n",
       "      <th>LUPIN.NS</th>\n",
       "      <th>VOLTAS.NS</th>\n",
       "      <th>YESBANK.NS</th>\n",
       "    </tr>\n",
       "    <tr>\n",
       "      <th>Date</th>\n",
       "      <th></th>\n",
       "      <th></th>\n",
       "      <th></th>\n",
       "    </tr>\n",
       "  </thead>\n",
       "  <tbody>\n",
       "    <tr>\n",
       "      <th>2023-01-03</th>\n",
       "      <td>0.006935</td>\n",
       "      <td>0.007014</td>\n",
       "      <td>0.018307</td>\n",
       "    </tr>\n",
       "    <tr>\n",
       "      <th>2023-01-04</th>\n",
       "      <td>-0.004550</td>\n",
       "      <td>-0.003036</td>\n",
       "      <td>-0.032261</td>\n",
       "    </tr>\n",
       "    <tr>\n",
       "      <th>2023-01-05</th>\n",
       "      <td>0.011168</td>\n",
       "      <td>0.004457</td>\n",
       "      <td>0.004673</td>\n",
       "    </tr>\n",
       "    <tr>\n",
       "      <th>2023-01-06</th>\n",
       "      <td>-0.006415</td>\n",
       "      <td>0.006281</td>\n",
       "      <td>-0.016452</td>\n",
       "    </tr>\n",
       "    <tr>\n",
       "      <th>2023-01-09</th>\n",
       "      <td>0.015794</td>\n",
       "      <td>0.006790</td>\n",
       "      <td>0.007084</td>\n",
       "    </tr>\n",
       "    <tr>\n",
       "      <th>...</th>\n",
       "      <td>...</td>\n",
       "      <td>...</td>\n",
       "      <td>...</td>\n",
       "    </tr>\n",
       "    <tr>\n",
       "      <th>2023-12-22</th>\n",
       "      <td>0.006582</td>\n",
       "      <td>0.005237</td>\n",
       "      <td>-0.004739</td>\n",
       "    </tr>\n",
       "    <tr>\n",
       "      <th>2023-12-26</th>\n",
       "      <td>0.013777</td>\n",
       "      <td>0.019231</td>\n",
       "      <td>-0.004762</td>\n",
       "    </tr>\n",
       "    <tr>\n",
       "      <th>2023-12-27</th>\n",
       "      <td>0.004162</td>\n",
       "      <td>0.019681</td>\n",
       "      <td>0.000000</td>\n",
       "    </tr>\n",
       "    <tr>\n",
       "      <th>2023-12-28</th>\n",
       "      <td>0.039542</td>\n",
       "      <td>-0.013952</td>\n",
       "      <td>-0.004785</td>\n",
       "    </tr>\n",
       "    <tr>\n",
       "      <th>2023-12-29</th>\n",
       "      <td>-0.012768</td>\n",
       "      <td>0.006975</td>\n",
       "      <td>0.028371</td>\n",
       "    </tr>\n",
       "  </tbody>\n",
       "</table>\n",
       "<p>244 rows × 3 columns</p>\n",
       "</div>"
      ],
      "text/plain": [
       "            LUPIN.NS  VOLTAS.NS  YESBANK.NS\n",
       "Date                                       \n",
       "2023-01-03  0.006935   0.007014    0.018307\n",
       "2023-01-04 -0.004550  -0.003036   -0.032261\n",
       "2023-01-05  0.011168   0.004457    0.004673\n",
       "2023-01-06 -0.006415   0.006281   -0.016452\n",
       "2023-01-09  0.015794   0.006790    0.007084\n",
       "...              ...        ...         ...\n",
       "2023-12-22  0.006582   0.005237   -0.004739\n",
       "2023-12-26  0.013777   0.019231   -0.004762\n",
       "2023-12-27  0.004162   0.019681    0.000000\n",
       "2023-12-28  0.039542  -0.013952   -0.004785\n",
       "2023-12-29 -0.012768   0.006975    0.028371\n",
       "\n",
       "[244 rows x 3 columns]"
      ]
     },
     "execution_count": 78,
     "metadata": {},
     "output_type": "execute_result"
    }
   ],
   "source": [
    "log_returns"
   ]
  },
  {
   "cell_type": "code",
   "execution_count": 79,
   "id": "aafa02e0",
   "metadata": {},
   "outputs": [
    {
     "name": "stderr",
     "output_type": "stream",
     "text": [
      "100%|████████████████████████████████████████████████████████████████████████████| 1000/1000 [00:00<00:00, 1008.00it/s]\n"
     ]
    }
   ],
   "source": [
    "portfolio_weights = []\n",
    "portfolio_returns = []\n",
    "portfolio_risks = []\n",
    "NUM_TRADING_DAYS = len(stock_prices)\n",
    "\n",
    "\n",
    "## MONTE CARLO SIMULATION\n",
    "\n",
    "for i in tqdm(range(NUM_OF_SIMULATIONS)):\n",
    "    \n",
    "    ## STEP-I: generating random weights\n",
    "    w = np.random.rand(log_returns.shape[1])\n",
    "    w = np.expand_dims(w, axis=0)\n",
    "    w = w/np.sum(w)\n",
    "    portfolio_weights.append(w)\n",
    "    \n",
    "    ## STEP-II: calculating returns using average annual returns\n",
    "    p_returns = (log_returns.mean() @ w.T*NUM_TRADING_DAYS)[0]\n",
    "    portfolio_returns.append(p_returns)\n",
    "    \n",
    "    ## STEP-III: calculating risks\n",
    "    p_risks = np.sqrt(w @ log_returns.cov()*NUM_TRADING_DAYS @ w.T)[0][0]\n",
    "    portfolio_risks.append(p_risks)"
   ]
  },
  {
   "cell_type": "code",
   "execution_count": 80,
   "id": "c6410073",
   "metadata": {},
   "outputs": [],
   "source": [
    "portfolio_weights = np.array(portfolio_weights)\n",
    "portfolio_returns = np.array(portfolio_returns)\n",
    "portfolio_risks = np.array(portfolio_risks)\n",
    "\n",
    "## CALCULATING SHARPE RATIO\n",
    "\n",
    "# taking IR of government issued 10-year bonds as risk-free rate\n",
    "risk_free_rate = 0.07\n",
    "\n",
    "sharpe_ratios = (portfolio_returns - risk_free_rate) / portfolio_risks"
   ]
  },
  {
   "cell_type": "code",
   "execution_count": 81,
   "id": "e53f027b",
   "metadata": {},
   "outputs": [],
   "source": [
    "## OPTIMIZED WEIGHTS\n",
    "\n",
    "index = np.argmax(sharpe_ratios)\n",
    "optimized_weights = portfolio_weights[index].flatten()\n",
    "\n",
    "num_of_shares = INITIAL_AMT_INVESTED*optimized_weights/stock_prices.iloc[0,:]\n",
    "num_of_shares = np.expand_dims(num_of_shares, axis=0)"
   ]
  },
  {
   "cell_type": "code",
   "execution_count": 82,
   "id": "64b9d66a",
   "metadata": {},
   "outputs": [],
   "source": [
    "## CALCULATING PORTFOLIO VALUE\n",
    "portfolio_value = np.sum(num_of_shares*np.array(stock_prices), axis=1)\n",
    "\n",
    "## PORTFOLIO DATAFRAME\n",
    "df_portfolio = num_of_shares*stock_prices\n",
    "df_portfolio['PORTFOLIO_VALUE'] = portfolio_value"
   ]
  },
  {
   "cell_type": "code",
   "execution_count": 91,
   "id": "739b75dd",
   "metadata": {},
   "outputs": [
    {
     "data": {
      "text/plain": [
       "Date\n",
       "2023-02-13   -0.074585\n",
       "2023-02-10   -0.039575\n",
       "2023-12-20   -0.029462\n",
       "2023-12-04   -0.025559\n",
       "2023-09-22   -0.024580\n",
       "                ...   \n",
       "2023-05-08    0.036122\n",
       "2023-07-27    0.036439\n",
       "2023-08-03    0.037274\n",
       "2023-06-21    0.048627\n",
       "2023-04-18    0.054739\n",
       "Name: PORTFOLIO_VALUE, Length: 244, dtype: float64"
      ]
     },
     "execution_count": 91,
     "metadata": {},
     "output_type": "execute_result"
    }
   ],
   "source": [
    "sorted_returns = (df_portfolio['PORTFOLIO_VALUE']/df_portfolio['PORTFOLIO_VALUE'].shift(1) - 1)[1:]\n",
    "sorted_returns = sorted_returns.sort_values()\n",
    "sorted_returns"
   ]
  },
  {
   "cell_type": "code",
   "execution_count": 107,
   "id": "5af07c1f",
   "metadata": {},
   "outputs": [],
   "source": [
    "def VaR(sorted_array, confidence_level):\n",
    "    index = round((1 - confidence_level)*len(sorted_array))\n",
    "    return sorted_array[index]*100"
   ]
  },
  {
   "cell_type": "code",
   "execution_count": 114,
   "id": "04e54e8c",
   "metadata": {},
   "outputs": [
    {
     "data": {
      "text/plain": [
       "-7.4585347194302205"
      ]
     },
     "execution_count": 114,
     "metadata": {},
     "output_type": "execute_result"
    }
   ],
   "source": [
    "VaR(sorted_returns, 0.999)"
   ]
  },
  {
   "cell_type": "code",
   "execution_count": null,
   "id": "5bb78dda",
   "metadata": {},
   "outputs": [],
   "source": [
    "def CVaR(sorte)"
   ]
  },
  {
   "cell_type": "code",
   "execution_count": null,
   "id": "d65d6f4f",
   "metadata": {},
   "outputs": [],
   "source": []
  },
  {
   "cell_type": "code",
   "execution_count": null,
   "id": "54738043",
   "metadata": {},
   "outputs": [],
   "source": []
  }
 ],
 "metadata": {
  "kernelspec": {
   "display_name": "Python 3 (ipykernel)",
   "language": "python",
   "name": "python3"
  },
  "language_info": {
   "codemirror_mode": {
    "name": "ipython",
    "version": 3
   },
   "file_extension": ".py",
   "mimetype": "text/x-python",
   "name": "python",
   "nbconvert_exporter": "python",
   "pygments_lexer": "ipython3",
   "version": "3.11.2"
  }
 },
 "nbformat": 4,
 "nbformat_minor": 5
}
